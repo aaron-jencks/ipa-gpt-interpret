{
 "cells": [
  {
   "cell_type": "code",
   "id": "initial_id",
   "metadata": {
    "collapsed": true,
    "ExecuteTime": {
     "end_time": "2025-10-30T23:00:49.110066Z",
     "start_time": "2025-10-30T23:00:47.633620Z"
    }
   },
   "source": [
    "import json\n",
    "import pathlib\n",
    "\n",
    "from datasets import load_dataset\n",
    "import pandas as pd\n",
    "from tqdm import tqdm"
   ],
   "outputs": [
    {
     "name": "stderr",
     "output_type": "stream",
     "text": [
      "/home/aaron/Documents/github/ipa-gpt-interpret/.venv/lib/python3.10/site-packages/tqdm/auto.py:21: TqdmWarning: IProgress not found. Please update jupyter and ipywidgets. See https://ipywidgets.readthedocs.io/en/stable/user_install.html\n",
      "  from .autonotebook import tqdm as notebook_tqdm\n"
     ]
    }
   ],
   "execution_count": 1
  },
  {
   "metadata": {
    "ExecuteTime": {
     "end_time": "2025-10-30T23:10:41.796934Z",
     "start_time": "2025-10-30T23:10:41.794340Z"
    }
   },
   "cell_type": "code",
   "source": [
    "mapping_path = pathlib.Path('data') / 'mappings.json'\n",
    "\n",
    "dataset_names = [\n",
    "    'iggy12345/ru-reviews-classification-ipa',\n",
    "    'iggy12345/allegro-reviews-ipa'\n",
    "]"
   ],
   "id": "5bd761a793439e7",
   "outputs": [],
   "execution_count": 10
  },
  {
   "metadata": {},
   "cell_type": "markdown",
   "source": [
    "# Inventory Analysis\n",
    "Now I want to see which phonemes are in each language and which are shared"
   ],
   "id": "1e136c3dcfeadf86"
  },
  {
   "metadata": {
    "ExecuteTime": {
     "end_time": "2025-10-30T23:01:04.554402Z",
     "start_time": "2025-10-30T23:01:03.100580Z"
    }
   },
   "cell_type": "code",
   "source": "datasets = list(map(load_dataset, dataset_names))",
   "id": "2221246346db8a30",
   "outputs": [],
   "execution_count": 3
  },
  {
   "metadata": {
    "ExecuteTime": {
     "end_time": "2025-10-30T23:01:09.223074Z",
     "start_time": "2025-10-30T23:01:06.862479Z"
    }
   },
   "cell_type": "code",
   "source": [
    "def collect_characters(ds, split: str, current_set: set):\n",
    "    for row in tqdm(ds[split]):\n",
    "        for ci, c in enumerate(row['text-phoneme']):\n",
    "            current_set.add(c)\n",
    "\n",
    "character_sets = [\n",
    "    set(),\n",
    "    set(),\n",
    "]\n",
    "for di, dataset in enumerate(datasets):\n",
    "    collect_characters(dataset, 'train', character_sets[di])\n",
    "    collect_characters(dataset, 'validation', character_sets[di])\n",
    "\n",
    "print(character_sets[0])\n",
    "print(character_sets[1])\n"
   ],
   "id": "8b033157d8943885",
   "outputs": [
    {
     "name": "stderr",
     "output_type": "stream",
     "text": [
      "100%|██████████| 45000/45000 [00:01<00:00, 32582.43it/s]\n",
      "100%|██████████| 15000/15000 [00:00<00:00, 31751.51it/s]\n",
      "100%|██████████| 9577/9577 [00:00<00:00, 21350.86it/s]\n",
      "100%|██████████| 1002/1002 [00:00<00:00, 20931.41it/s]"
     ]
    },
    {
     "name": "stdout",
     "output_type": "stream",
     "text": [
      "{'ʌ', '!', 'ж', 'т', 'п', '=', 'щ', 'Z', 'j', 'J', '-', 'о', '。', '➖', '@', '´', 'А', '}', 't', 'М', '）', 'K', 'ı', '∀', 'h', '$', '…', 'ɵ', 'ŋ', 'x', '»', 'ф', 'ú', 'З', 'ɪ', 'ю', 'O', 'Д', 'ヽ', 'W', 'И', 'v', '1', '%', 'О', 'é', 'ﾉ', 'к', 'Y', 'П', 'ш', 'ñ', ':', 'ɭ', 'Й', '♡', '（', 'Е', '‘', 'T', 'm', 'I', '#', 'ɡ', 'ё', 'F', '★', 'ɕ', 'C', 'в', '❣', 'ɛ', '/', '•', 'Ц', '☺', 'n', '_', 'ы', 'Л', '–', 'Б', '7', 'H', '“', 'ä', 'Х', 'ц', '？', 'ɔ', '№', 'Ы', 's', '◡', 'p', 'u', 'b', 'ə', '₽', 'м', 'f', 'S', 'U', '，', 'с', '％', 'Щ', 'q', '°', '4', 'B', 'í', 'й', 'ʃ', '?', '*', 'c', 'z', '\"', '^', 'Ф', ']', '❤', '❌', '+', '️', 'К', 'y', 'я', '|', '≈', '➕', '(', '’', '́', 'ʲ', 'N', '✔', 'р', 'ʒ', 'R', '℅', ' ', 'ß', '2', '✌', 'В', 'н', '\\n', 'ş', 'E', ';', 'g', '8', '0', '©', 'ó', '⭐', '❄', 'е', 'д', 'Я', '✩', 'ˈ', 'ʑ', 'э', 'х', '❗', '×', 'X', '☝', '«', 'Г', 'ω', 'ч', '－', 'd', '3', '\\\\', 'л', 'a', '‼', 'o', '6', '5', '！', 'У', 'k', '⛔', 'D', 'Ш', ',', '¡', 'á', '☹', '✨', 'V', 'С', 'Ж', 'P', 'г', 'M', 'Т', 'ë', 'Ç', '｀', 'ъ', '<', '÷', ')', 'а', '&', 'ö', 'у', 'б', 'Q', 'ь', 'ç', 'ü', 'G', 'ɑ', 'w', 'i', '.', '~', 'ˌ', 'Ю', '⚘', '`', '”', 'Ч', '♥', 'и', '[', '☆', '>', 'A', 'з', 'Ь', 'l', '—', 'L', 'e', \"'\", 'Р', 'Н', '9', 'r'}\n",
      "{'!', 'ę', '=', 'ʂ', 'Z', 'j', 'J', '-', 'ś', '@', 'ż', 't', '}', 'K', 'h', '$', 'ŋ', 'x', 'ć', 'O', '„', 'ɹ', 'W', '̃', 'v', '1', '%', 'Y', ':', 'T', 'm', 'I', '#', 'ɡ', 'F', 'ɕ', 'C', 'ɛ', '/', 'n', '_', 'Ł', '–', 'ɲ', '7', 'ä', 'H', 'ł', 'ɔ', 's', 'ɨ', 'p', 'u', 'b', 'S', 'f', 'U', 'q', '4', 'B', '*', 'ʃ', '?', ']', 'z', '\"', 'c', '^', '+', 'y', '|', '(', 'ą', 'ʲ', 'N', 'ʒ', 'R', ' ', '2', ';', 'E', '8', 'g', '0', 'ó', 'ˈ', 'ʑ', 'X', 'ń', 'd', '3', 'ː', '\\\\', 'a', '5', '6', 'o', 'k', 'D', ',', 'V', 'P', 'M', ')', '&', 'Q', 'ç', 'G', 'w', '.', 'i', 'Ó', 'ˌ', '”', '[', 'A', 'ɣ', 'l', '—', 'L', 'e', \"'\", '{', '9', 'r'}\n"
     ]
    },
    {
     "name": "stderr",
     "output_type": "stream",
     "text": [
      "\n"
     ]
    }
   ],
   "execution_count": 4
  },
  {
   "metadata": {},
   "cell_type": "markdown",
   "source": "Lets filter datasets to get rid of these extra characters",
   "id": "25102833d090693c"
  },
  {
   "metadata": {
    "ExecuteTime": {
     "end_time": "2025-10-30T23:10:54.725641Z",
     "start_time": "2025-10-30T23:10:54.722692Z"
    }
   },
   "cell_type": "code",
   "source": [
    "with open(mapping_path, 'r') as f:\n",
    "    mappings = json.load(f)"
   ],
   "id": "f99368410801aa19",
   "outputs": [],
   "execution_count": 11
  },
  {
   "metadata": {
    "ExecuteTime": {
     "end_time": "2025-10-30T23:13:05.957566Z",
     "start_time": "2025-10-30T23:13:05.955345Z"
    }
   },
   "cell_type": "code",
   "source": "real_ipa_chars = set(mappings['mappings'].keys())",
   "id": "fa4562261fd5e31d",
   "outputs": [],
   "execution_count": 14
  },
  {
   "metadata": {
    "ExecuteTime": {
     "end_time": "2025-10-30T23:13:08.861590Z",
     "start_time": "2025-10-30T23:13:08.859447Z"
    }
   },
   "cell_type": "code",
   "source": "character_sets = [set([c for c in cset if c in real_ipa_chars]) for cset in character_sets]",
   "id": "93d2cd321d92e2bb",
   "outputs": [],
   "execution_count": 15
  },
  {
   "metadata": {
    "ExecuteTime": {
     "end_time": "2025-10-30T23:13:35.225932Z",
     "start_time": "2025-10-30T23:13:35.223415Z"
    }
   },
   "cell_type": "code",
   "source": [
    "print(character_sets[0])\n",
    "print(character_sets[1])"
   ],
   "id": "189fa6391880f877",
   "outputs": [
    {
     "name": "stdout",
     "output_type": "stream",
     "text": [
      "{'ʌ', 'ʒ', 'j', 't', 'ɔ', 'h', 's', 'ɵ', 'ŋ', 'x', 'p', 'u', 'b', 'ə', 'ɪ', 'f', 'ç', 'ʑ', 'q', 'ɑ', 'v', 'w', 'i', 'ɭ', 'ʃ', 'c', 'z', 'd', 'a', 'm', 'ɡ', 'o', 'l', 'ɕ', 'e', 'y', 'k', 'ɛ', 'r', 'n'}\n",
      "{'ɲ', 'ʒ', 'ʂ', 'j', 't', 'ɔ', 'h', 's', 'ɨ', 'ŋ', 'p', 'x', 'u', 'b', 'f', 'ɹ', 'ç', 'ʑ', 'q', 'v', 'w', 'i', 'ʃ', 'z', 'c', 'd', 'a', 'm', 'ɡ', 'o', 'l', 'ɕ', 'e', 'y', 'k', 'ɛ', 'ɣ', 'r', 'n'}\n"
     ]
    }
   ],
   "execution_count": 16
  },
  {
   "metadata": {},
   "cell_type": "markdown",
   "source": "## Disjoint phonemes",
   "id": "b7fcab7c1a662049"
  },
  {
   "metadata": {
    "ExecuteTime": {
     "end_time": "2025-10-30T23:14:28.614969Z",
     "start_time": "2025-10-30T23:14:28.612631Z"
    }
   },
   "cell_type": "code",
   "source": [
    "russian_phonemes = character_sets[0] - character_sets[1]\n",
    "polish_phonemes = character_sets[1] - character_sets[0]"
   ],
   "id": "b31efbb7eb2c3a98",
   "outputs": [],
   "execution_count": 17
  },
  {
   "metadata": {
    "ExecuteTime": {
     "end_time": "2025-10-30T23:14:30.923147Z",
     "start_time": "2025-10-30T23:14:30.921019Z"
    }
   },
   "cell_type": "code",
   "source": "print(russian_phonemes)",
   "id": "955db1fdaed8374d",
   "outputs": [
    {
     "name": "stdout",
     "output_type": "stream",
     "text": [
      "{'ʌ', 'ɑ', 'ɵ', 'ə', 'ɭ', 'ɪ'}\n"
     ]
    }
   ],
   "execution_count": 18
  },
  {
   "metadata": {
    "ExecuteTime": {
     "end_time": "2025-10-30T23:14:32.556285Z",
     "start_time": "2025-10-30T23:14:32.552622Z"
    }
   },
   "cell_type": "code",
   "source": "print(polish_phonemes)",
   "id": "7651ed73f3e84079",
   "outputs": [
    {
     "name": "stdout",
     "output_type": "stream",
     "text": [
      "{'ɨ', 'ɲ', 'ʂ', 'ɣ', 'ɹ'}\n"
     ]
    }
   ],
   "execution_count": 19
  },
  {
   "metadata": {},
   "cell_type": "markdown",
   "source": "## Overlapping Phonemes",
   "id": "6bf4796d8985bff"
  },
  {
   "metadata": {
    "ExecuteTime": {
     "end_time": "2025-10-30T23:14:37.009343Z",
     "start_time": "2025-10-30T23:14:37.007211Z"
    }
   },
   "cell_type": "code",
   "source": "shared_phonemes = character_sets[0] & character_sets[1]",
   "id": "5558366792df944c",
   "outputs": [],
   "execution_count": 20
  },
  {
   "metadata": {
    "ExecuteTime": {
     "end_time": "2025-10-30T23:14:38.553506Z",
     "start_time": "2025-10-30T23:14:38.550755Z"
    }
   },
   "cell_type": "code",
   "source": "print(shared_phonemes)",
   "id": "df018ae8157a2d99",
   "outputs": [
    {
     "name": "stdout",
     "output_type": "stream",
     "text": [
      "{'ʒ', 'j', 't', 'ɔ', 'h', 's', 'ŋ', 'p', 'x', 'u', 'b', 'f', 'ç', 'ʑ', 'q', 'v', 'w', 'i', 'ʃ', 'z', 'c', 'd', 'a', 'm', 'ɡ', 'o', 'l', 'ɕ', 'e', 'y', 'k', 'ɛ', 'r', 'n'}\n"
     ]
    }
   ],
   "execution_count": 21
  },
  {
   "metadata": {},
   "cell_type": "code",
   "outputs": [],
   "execution_count": null,
   "source": "",
   "id": "5e6c05114fa55448"
  }
 ],
 "metadata": {
  "kernelspec": {
   "display_name": "Python 3",
   "language": "python",
   "name": "python3"
  },
  "language_info": {
   "codemirror_mode": {
    "name": "ipython",
    "version": 2
   },
   "file_extension": ".py",
   "mimetype": "text/x-python",
   "name": "python",
   "nbconvert_exporter": "python",
   "pygments_lexer": "ipython2",
   "version": "2.7.6"
  }
 },
 "nbformat": 4,
 "nbformat_minor": 5
}
